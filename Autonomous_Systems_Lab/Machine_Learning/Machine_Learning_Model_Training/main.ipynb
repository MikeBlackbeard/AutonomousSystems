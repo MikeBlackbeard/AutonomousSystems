{
 "cells": [
  {
   "cell_type": "markdown",
   "metadata": {},
   "source": [
    "# Importing of Libraries and checking the versions"
   ]
  },
  {
   "cell_type": "code",
   "execution_count": 53,
   "metadata": {},
   "outputs": [
    {
     "name": "stdout",
     "output_type": "stream",
     "text": [
      "pandas 1.3.5\n"
     ]
    }
   ],
   "source": [
    "from pandas.plotting import scatter_matrix\n",
    "import pandas\n",
    "print(\"pandas {}\".format(pandas.__version__))"
   ]
  },
  {
   "cell_type": "code",
   "execution_count": 54,
   "metadata": {},
   "outputs": [
    {
     "name": "stdout",
     "output_type": "stream",
     "text": [
      "matplotlib 3.5.2\n"
     ]
    }
   ],
   "source": [
    "import matplotlib.pyplot\n",
    "import matplotlib\n",
    "print(\"matplotlib {}\".format(matplotlib.__version__))"
   ]
  },
  {
   "cell_type": "code",
   "execution_count": 55,
   "metadata": {},
   "outputs": [
    {
     "name": "stdout",
     "output_type": "stream",
     "text": [
      "sklearn 1.0.2\n"
     ]
    }
   ],
   "source": [
    "from sklearn import model_selection\n",
    "import sklearn\n",
    "print(\"sklearn {}\".format(sklearn.__version__))"
   ]
  },
  {
   "cell_type": "code",
   "execution_count": 57,
   "metadata": {},
   "outputs": [],
   "source": [
    "# Import Various Models we are to use\n",
    "from sklearn.linear_model import LogisticRegression\n",
    "from sklearn.tree import DecisionTreeClassifier\n",
    "from sklearn.neighbors import KNeighborsClassifier\n",
    "from sklearn.discriminant_analysis import LinearDiscriminantAnalysis\n",
    "from sklearn.naive_bayes import GaussianNB\n",
    "from sklearn.svm import SVC\n",
    "from sklearn.metrics import classification_report\n",
    "from sklearn.metrics import confusion_matrix\n",
    "from sklearn.metrics import accuracy_score\n",
    "from sklearn.metrics import precision_score\n",
    "from sklearn.metrics import recall_score\n",
    "from sklearn.metrics import f1_score\n",
    "from sklearn.metrics import roc_auc_score"
   ]
  },
  {
   "cell_type": "markdown",
   "metadata": {},
   "source": [
    "# Data Preprocessing"
   ]
  },
  {
   "cell_type": "code",
   "execution_count": 59,
   "metadata": {},
   "outputs": [],
   "source": [
    "names = ['distanceCovered', 'Match of Route', 'Fuel Consumption', 'Body Characteristics', 'Equipment Sensors', 'Efficiency', 'Rating']"
   ]
  },
  {
   "cell_type": "code",
   "execution_count": 60,
   "metadata": {},
   "outputs": [
    {
     "data": {
      "text/plain": [
       "(74, 7)"
      ]
     },
     "execution_count": 60,
     "metadata": {},
     "output_type": "execute_result"
    }
   ],
   "source": [
    "data_set = pandas.read_csv('truckData.csv', names=names, header=0)\n",
    "data_set.shape"
   ]
  },
  {
   "cell_type": "code",
   "execution_count": 62,
   "metadata": {},
   "outputs": [
    {
     "data": {
      "text/html": [
       "<div>\n",
       "<style scoped>\n",
       "    .dataframe tbody tr th:only-of-type {\n",
       "        vertical-align: middle;\n",
       "    }\n",
       "\n",
       "    .dataframe tbody tr th {\n",
       "        vertical-align: top;\n",
       "    }\n",
       "\n",
       "    .dataframe thead th {\n",
       "        text-align: right;\n",
       "    }\n",
       "</style>\n",
       "<table border=\"1\" class=\"dataframe\">\n",
       "  <thead>\n",
       "    <tr style=\"text-align: right;\">\n",
       "      <th></th>\n",
       "      <th>distanceCovered</th>\n",
       "      <th>Match of Route</th>\n",
       "      <th>Fuel Consumption</th>\n",
       "      <th>Body Characteristics</th>\n",
       "      <th>Equipment Sensors</th>\n",
       "      <th>Efficiency</th>\n",
       "      <th>Rating</th>\n",
       "    </tr>\n",
       "  </thead>\n",
       "  <tbody>\n",
       "    <tr>\n",
       "      <th>0</th>\n",
       "      <td>1000</td>\n",
       "      <td>1</td>\n",
       "      <td>2000</td>\n",
       "      <td>1</td>\n",
       "      <td>10</td>\n",
       "      <td>4</td>\n",
       "      <td>High</td>\n",
       "    </tr>\n",
       "    <tr>\n",
       "      <th>1</th>\n",
       "      <td>1000</td>\n",
       "      <td>1</td>\n",
       "      <td>2000</td>\n",
       "      <td>1</td>\n",
       "      <td>10</td>\n",
       "      <td>4</td>\n",
       "      <td>High</td>\n",
       "    </tr>\n",
       "    <tr>\n",
       "      <th>2</th>\n",
       "      <td>1000</td>\n",
       "      <td>0</td>\n",
       "      <td>2000</td>\n",
       "      <td>1</td>\n",
       "      <td>10</td>\n",
       "      <td>4</td>\n",
       "      <td>lowest</td>\n",
       "    </tr>\n",
       "    <tr>\n",
       "      <th>3</th>\n",
       "      <td>1000</td>\n",
       "      <td>1</td>\n",
       "      <td>2000</td>\n",
       "      <td>1</td>\n",
       "      <td>10</td>\n",
       "      <td>4</td>\n",
       "      <td>High</td>\n",
       "    </tr>\n",
       "    <tr>\n",
       "      <th>4</th>\n",
       "      <td>800</td>\n",
       "      <td>1</td>\n",
       "      <td>500</td>\n",
       "      <td>2</td>\n",
       "      <td>10</td>\n",
       "      <td>4</td>\n",
       "      <td>Highest</td>\n",
       "    </tr>\n",
       "    <tr>\n",
       "      <th>5</th>\n",
       "      <td>700</td>\n",
       "      <td>1</td>\n",
       "      <td>500</td>\n",
       "      <td>2</td>\n",
       "      <td>10</td>\n",
       "      <td>4</td>\n",
       "      <td>Highest</td>\n",
       "    </tr>\n",
       "    <tr>\n",
       "      <th>6</th>\n",
       "      <td>900</td>\n",
       "      <td>1</td>\n",
       "      <td>500</td>\n",
       "      <td>2</td>\n",
       "      <td>10</td>\n",
       "      <td>4</td>\n",
       "      <td>Highest</td>\n",
       "    </tr>\n",
       "    <tr>\n",
       "      <th>7</th>\n",
       "      <td>650</td>\n",
       "      <td>1</td>\n",
       "      <td>500</td>\n",
       "      <td>2</td>\n",
       "      <td>10</td>\n",
       "      <td>4</td>\n",
       "      <td>Highest</td>\n",
       "    </tr>\n",
       "    <tr>\n",
       "      <th>8</th>\n",
       "      <td>300</td>\n",
       "      <td>1</td>\n",
       "      <td>500</td>\n",
       "      <td>2</td>\n",
       "      <td>10</td>\n",
       "      <td>4</td>\n",
       "      <td>Highest</td>\n",
       "    </tr>\n",
       "    <tr>\n",
       "      <th>9</th>\n",
       "      <td>2000</td>\n",
       "      <td>1</td>\n",
       "      <td>2500</td>\n",
       "      <td>1</td>\n",
       "      <td>7</td>\n",
       "      <td>4</td>\n",
       "      <td>High</td>\n",
       "    </tr>\n",
       "    <tr>\n",
       "      <th>10</th>\n",
       "      <td>2000</td>\n",
       "      <td>1</td>\n",
       "      <td>2500</td>\n",
       "      <td>1</td>\n",
       "      <td>7</td>\n",
       "      <td>3</td>\n",
       "      <td>high</td>\n",
       "    </tr>\n",
       "    <tr>\n",
       "      <th>11</th>\n",
       "      <td>1500</td>\n",
       "      <td>1</td>\n",
       "      <td>2500</td>\n",
       "      <td>1</td>\n",
       "      <td>7</td>\n",
       "      <td>3</td>\n",
       "      <td>high</td>\n",
       "    </tr>\n",
       "    <tr>\n",
       "      <th>12</th>\n",
       "      <td>1500</td>\n",
       "      <td>1</td>\n",
       "      <td>2500</td>\n",
       "      <td>1</td>\n",
       "      <td>7</td>\n",
       "      <td>3</td>\n",
       "      <td>high</td>\n",
       "    </tr>\n",
       "    <tr>\n",
       "      <th>13</th>\n",
       "      <td>1500</td>\n",
       "      <td>0</td>\n",
       "      <td>2500</td>\n",
       "      <td>1</td>\n",
       "      <td>7</td>\n",
       "      <td>3</td>\n",
       "      <td>lowest</td>\n",
       "    </tr>\n",
       "    <tr>\n",
       "      <th>14</th>\n",
       "      <td>1500</td>\n",
       "      <td>0</td>\n",
       "      <td>2000</td>\n",
       "      <td>1</td>\n",
       "      <td>7</td>\n",
       "      <td>3</td>\n",
       "      <td>lowest</td>\n",
       "    </tr>\n",
       "    <tr>\n",
       "      <th>15</th>\n",
       "      <td>1500</td>\n",
       "      <td>0</td>\n",
       "      <td>2000</td>\n",
       "      <td>1</td>\n",
       "      <td>7</td>\n",
       "      <td>3</td>\n",
       "      <td>lowest</td>\n",
       "    </tr>\n",
       "    <tr>\n",
       "      <th>16</th>\n",
       "      <td>1500</td>\n",
       "      <td>1</td>\n",
       "      <td>2000</td>\n",
       "      <td>1</td>\n",
       "      <td>7</td>\n",
       "      <td>3</td>\n",
       "      <td>high</td>\n",
       "    </tr>\n",
       "    <tr>\n",
       "      <th>17</th>\n",
       "      <td>1500</td>\n",
       "      <td>1</td>\n",
       "      <td>2000</td>\n",
       "      <td>1</td>\n",
       "      <td>7</td>\n",
       "      <td>3</td>\n",
       "      <td>high</td>\n",
       "    </tr>\n",
       "    <tr>\n",
       "      <th>18</th>\n",
       "      <td>1500</td>\n",
       "      <td>1</td>\n",
       "      <td>2000</td>\n",
       "      <td>1</td>\n",
       "      <td>7</td>\n",
       "      <td>3</td>\n",
       "      <td>high</td>\n",
       "    </tr>\n",
       "    <tr>\n",
       "      <th>19</th>\n",
       "      <td>1500</td>\n",
       "      <td>1</td>\n",
       "      <td>2500</td>\n",
       "      <td>1</td>\n",
       "      <td>7</td>\n",
       "      <td>3</td>\n",
       "      <td>high</td>\n",
       "    </tr>\n",
       "  </tbody>\n",
       "</table>\n",
       "</div>"
      ],
      "text/plain": [
       "    distanceCovered  Match of Route  Fuel Consumption  Body Characteristics  \\\n",
       "0              1000               1              2000                     1   \n",
       "1              1000               1              2000                     1   \n",
       "2              1000               0              2000                     1   \n",
       "3              1000               1              2000                     1   \n",
       "4               800               1               500                     2   \n",
       "5               700               1               500                     2   \n",
       "6               900               1               500                     2   \n",
       "7               650               1               500                     2   \n",
       "8               300               1               500                     2   \n",
       "9              2000               1              2500                     1   \n",
       "10             2000               1              2500                     1   \n",
       "11             1500               1              2500                     1   \n",
       "12             1500               1              2500                     1   \n",
       "13             1500               0              2500                     1   \n",
       "14             1500               0              2000                     1   \n",
       "15             1500               0              2000                     1   \n",
       "16             1500               1              2000                     1   \n",
       "17             1500               1              2000                     1   \n",
       "18             1500               1              2000                     1   \n",
       "19             1500               1              2500                     1   \n",
       "\n",
       "    Equipment Sensors  Efficiency   Rating  \n",
       "0                  10           4     High  \n",
       "1                  10           4     High  \n",
       "2                  10           4   lowest  \n",
       "3                  10           4     High  \n",
       "4                  10           4  Highest  \n",
       "5                  10           4  Highest  \n",
       "6                  10           4  Highest  \n",
       "7                  10           4  Highest  \n",
       "8                  10           4  Highest  \n",
       "9                   7           4     High  \n",
       "10                  7           3     high  \n",
       "11                  7           3     high  \n",
       "12                  7           3     high  \n",
       "13                  7           3   lowest  \n",
       "14                  7           3   lowest  \n",
       "15                  7           3   lowest  \n",
       "16                  7           3     high  \n",
       "17                  7           3     high  \n",
       "18                  7           3     high  \n",
       "19                  7           3     high  "
      ]
     },
     "execution_count": 62,
     "metadata": {},
     "output_type": "execute_result"
    }
   ],
   "source": [
    "data_set.head(20)"
   ]
  },
  {
   "cell_type": "code",
   "execution_count": 63,
   "metadata": {},
   "outputs": [
    {
     "data": {
      "text/html": [
       "<div>\n",
       "<style scoped>\n",
       "    .dataframe tbody tr th:only-of-type {\n",
       "        vertical-align: middle;\n",
       "    }\n",
       "\n",
       "    .dataframe tbody tr th {\n",
       "        vertical-align: top;\n",
       "    }\n",
       "\n",
       "    .dataframe thead th {\n",
       "        text-align: right;\n",
       "    }\n",
       "</style>\n",
       "<table border=\"1\" class=\"dataframe\">\n",
       "  <thead>\n",
       "    <tr style=\"text-align: right;\">\n",
       "      <th></th>\n",
       "      <th>distanceCovered</th>\n",
       "      <th>Match of Route</th>\n",
       "      <th>Fuel Consumption</th>\n",
       "      <th>Body Characteristics</th>\n",
       "      <th>Equipment Sensors</th>\n",
       "      <th>Efficiency</th>\n",
       "    </tr>\n",
       "  </thead>\n",
       "  <tbody>\n",
       "    <tr>\n",
       "      <th>count</th>\n",
       "      <td>74.000000</td>\n",
       "      <td>74.000000</td>\n",
       "      <td>74.000000</td>\n",
       "      <td>74.000000</td>\n",
       "      <td>74.000000</td>\n",
       "      <td>74.000000</td>\n",
       "    </tr>\n",
       "    <tr>\n",
       "      <th>mean</th>\n",
       "      <td>1887.837838</td>\n",
       "      <td>0.783784</td>\n",
       "      <td>2108.108108</td>\n",
       "      <td>1.135135</td>\n",
       "      <td>6.972973</td>\n",
       "      <td>3.270270</td>\n",
       "    </tr>\n",
       "    <tr>\n",
       "      <th>std</th>\n",
       "      <td>808.126991</td>\n",
       "      <td>0.414473</td>\n",
       "      <td>673.725434</td>\n",
       "      <td>0.344201</td>\n",
       "      <td>1.937185</td>\n",
       "      <td>0.447131</td>\n",
       "    </tr>\n",
       "    <tr>\n",
       "      <th>min</th>\n",
       "      <td>300.000000</td>\n",
       "      <td>0.000000</td>\n",
       "      <td>500.000000</td>\n",
       "      <td>1.000000</td>\n",
       "      <td>5.000000</td>\n",
       "      <td>3.000000</td>\n",
       "    </tr>\n",
       "    <tr>\n",
       "      <th>25%</th>\n",
       "      <td>1500.000000</td>\n",
       "      <td>1.000000</td>\n",
       "      <td>2000.000000</td>\n",
       "      <td>1.000000</td>\n",
       "      <td>5.000000</td>\n",
       "      <td>3.000000</td>\n",
       "    </tr>\n",
       "    <tr>\n",
       "      <th>50%</th>\n",
       "      <td>2000.000000</td>\n",
       "      <td>1.000000</td>\n",
       "      <td>2500.000000</td>\n",
       "      <td>1.000000</td>\n",
       "      <td>7.000000</td>\n",
       "      <td>3.000000</td>\n",
       "    </tr>\n",
       "    <tr>\n",
       "      <th>75%</th>\n",
       "      <td>2500.000000</td>\n",
       "      <td>1.000000</td>\n",
       "      <td>2500.000000</td>\n",
       "      <td>1.000000</td>\n",
       "      <td>7.000000</td>\n",
       "      <td>4.000000</td>\n",
       "    </tr>\n",
       "    <tr>\n",
       "      <th>max</th>\n",
       "      <td>3000.000000</td>\n",
       "      <td>1.000000</td>\n",
       "      <td>2500.000000</td>\n",
       "      <td>2.000000</td>\n",
       "      <td>10.000000</td>\n",
       "      <td>4.000000</td>\n",
       "    </tr>\n",
       "  </tbody>\n",
       "</table>\n",
       "</div>"
      ],
      "text/plain": [
       "       distanceCovered  Match of Route  Fuel Consumption  \\\n",
       "count        74.000000       74.000000         74.000000   \n",
       "mean       1887.837838        0.783784       2108.108108   \n",
       "std         808.126991        0.414473        673.725434   \n",
       "min         300.000000        0.000000        500.000000   \n",
       "25%        1500.000000        1.000000       2000.000000   \n",
       "50%        2000.000000        1.000000       2500.000000   \n",
       "75%        2500.000000        1.000000       2500.000000   \n",
       "max        3000.000000        1.000000       2500.000000   \n",
       "\n",
       "       Body Characteristics  Equipment Sensors  Efficiency  \n",
       "count             74.000000          74.000000   74.000000  \n",
       "mean               1.135135           6.972973    3.270270  \n",
       "std                0.344201           1.937185    0.447131  \n",
       "min                1.000000           5.000000    3.000000  \n",
       "25%                1.000000           5.000000    3.000000  \n",
       "50%                1.000000           7.000000    3.000000  \n",
       "75%                1.000000           7.000000    4.000000  \n",
       "max                2.000000          10.000000    4.000000  "
      ]
     },
     "execution_count": 63,
     "metadata": {},
     "output_type": "execute_result"
    }
   ],
   "source": [
    "data_set.describe()"
   ]
  },
  {
   "cell_type": "code",
   "execution_count": 64,
   "metadata": {},
   "outputs": [
    {
     "data": {
      "text/plain": [
       "Rating\n",
       "High        8\n",
       "Highest    10\n",
       "high       18\n",
       "low        22\n",
       "lowest     16\n",
       "dtype: int64"
      ]
     },
     "execution_count": 64,
     "metadata": {},
     "output_type": "execute_result"
    }
   ],
   "source": [
    "data_set.groupby('Rating').size()\n"
   ]
  },
  {
   "cell_type": "code",
   "execution_count": 65,
   "metadata": {},
   "outputs": [
    {
     "data": {
      "text/plain": [
       "<AxesSubplot:>"
      ]
     },
     "execution_count": 65,
     "metadata": {},
     "output_type": "execute_result"
    },
    {
     "data": {
      "image/png": "[encoded data removed]",
      "text/plain": [
       "<Figure size 432x288 with 1 Axes>"
      ]
     },
     "metadata": {
      "needs_background": "light"
     },
     "output_type": "display_data"
    }
   ],
   "source": [
    "data_set.plot(kind='box', subplots=False, sharex=False, sharey=False)"
   ]
  },
  {
   "cell_type": "code",
   "execution_count": 66,
   "metadata": {},
   "outputs": [
    {
     "data": {
      "text/plain": [
       "distanceCovered             AxesSubplot(0.125,0.71587;0.352273x0.16413)\n",
       "Match of Route           AxesSubplot(0.547727,0.71587;0.352273x0.16413)\n",
       "Fuel Consumption           AxesSubplot(0.125,0.518913;0.352273x0.16413)\n",
       "Body Characteristics    AxesSubplot(0.547727,0.518913;0.352273x0.16413)\n",
       "Equipment Sensors          AxesSubplot(0.125,0.321957;0.352273x0.16413)\n",
       "Efficiency              AxesSubplot(0.547727,0.321957;0.352273x0.16413)\n",
       "dtype: object"
      ]
     },
     "execution_count": 66,
     "metadata": {},
     "output_type": "execute_result"
    },
    {
     "data": {
      "image/png": "[encoded data removed]",
      "text/plain": [
       "<Figure size 432x288 with 8 Axes>"
      ]
     },
     "metadata": {
      "needs_background": "light"
     },
     "output_type": "display_data"
    }
   ],
   "source": [
    "data_set.plot (kind = 'box', subplots = True, layout = (4,2), sharex = False, sharey = False)"
   ]
  },
  {
   "cell_type": "code",
   "execution_count": 67,
   "metadata": {},
   "outputs": [
    {
     "data": {
      "text/plain": [
       "array([[<AxesSubplot:title={'center':'distanceCovered'}>,\n",
       "        <AxesSubplot:title={'center':'Match of Route'}>],\n",
       "       [<AxesSubplot:title={'center':'Fuel Consumption'}>,\n",
       "        <AxesSubplot:title={'center':'Body Characteristics'}>],\n",
       "       [<AxesSubplot:title={'center':'Equipment Sensors'}>,\n",
       "        <AxesSubplot:title={'center':'Efficiency'}>]], dtype=object)"
      ]
     },
     "execution_count": 67,
     "metadata": {},
     "output_type": "execute_result"
    },
    {
     "data": {
      "image/png": "[encoded data removed]",
      "text/plain": [
       "<Figure size 432x288 with 6 Axes>"
      ]
     },
     "metadata": {
      "needs_background": "light"
     },
     "output_type": "display_data"
    }
   ],
   "source": [
    "data_set.hist()"
   ]
  },
  {
   "cell_type": "code",
   "execution_count": 68,
   "metadata": {},
   "outputs": [
    {
     "data": {
      "text/plain": [
       "array([[<AxesSubplot:xlabel='distanceCovered', ylabel='distanceCovered'>,\n",
       "        <AxesSubplot:xlabel='Match of Route', ylabel='distanceCovered'>,\n",
       "        <AxesSubplot:xlabel='Fuel Consumption', ylabel='distanceCovered'>,\n",
       "        <AxesSubplot:xlabel='Body Characteristics', ylabel='distanceCovered'>,\n",
       "        <AxesSubplot:xlabel='Equipment Sensors', ylabel='distanceCovered'>,\n",
       "        <AxesSubplot:xlabel='Efficiency', ylabel='distanceCovered'>],\n",
       "       [<AxesSubplot:xlabel='distanceCovered', ylabel='Match of Route'>,\n",
       "        <AxesSubplot:xlabel='Match of Route', ylabel='Match of Route'>,\n",
       "        <AxesSubplot:xlabel='Fuel Consumption', ylabel='Match of Route'>,\n",
       "        <AxesSubplot:xlabel='Body Characteristics', ylabel='Match of Route'>,\n",
       "        <AxesSubplot:xlabel='Equipment Sensors', ylabel='Match of Route'>,\n",
       "        <AxesSubplot:xlabel='Efficiency', ylabel='Match of Route'>],\n",
       "       [<AxesSubplot:xlabel='distanceCovered', ylabel='Fuel Consumption'>,\n",
       "        <AxesSubplot:xlabel='Match of Route', ylabel='Fuel Consumption'>,\n",
       "        <AxesSubplot:xlabel='Fuel Consumption', ylabel='Fuel Consumption'>,\n",
       "        <AxesSubplot:xlabel='Body Characteristics', ylabel='Fuel Consumption'>,\n",
       "        <AxesSubplot:xlabel='Equipment Sensors', ylabel='Fuel Consumption'>,\n",
       "        <AxesSubplot:xlabel='Efficiency', ylabel='Fuel Consumption'>],\n",
       "       [<AxesSubplot:xlabel='distanceCovered', ylabel='Body Characteristics'>,\n",
       "        <AxesSubplot:xlabel='Match of Route', ylabel='Body Characteristics'>,\n",
       "        <AxesSubplot:xlabel='Fuel Consumption', ylabel='Body Characteristics'>,\n",
       "        <AxesSubplot:xlabel='Body Characteristics', ylabel='Body Characteristics'>,\n",
       "        <AxesSubplot:xlabel='Equipment Sensors', ylabel='Body Characteristics'>,\n",
       "        <AxesSubplot:xlabel='Efficiency', ylabel='Body Characteristics'>],\n",
       "       [<AxesSubplot:xlabel='distanceCovered', ylabel='Equipment Sensors'>,\n",
       "        <AxesSubplot:xlabel='Match of Route', ylabel='Equipment Sensors'>,\n",
       "        <AxesSubplot:xlabel='Fuel Consumption', ylabel='Equipment Sensors'>,\n",
       "        <AxesSubplot:xlabel='Body Characteristics', ylabel='Equipment Sensors'>,\n",
       "        <AxesSubplot:xlabel='Equipment Sensors', ylabel='Equipment Sensors'>,\n",
       "        <AxesSubplot:xlabel='Efficiency', ylabel='Equipment Sensors'>],\n",
       "       [<AxesSubplot:xlabel='distanceCovered', ylabel='Efficiency'>,\n",
       "        <AxesSubplot:xlabel='Match of Route', ylabel='Efficiency'>,\n",
       "        <AxesSubplot:xlabel='Fuel Consumption', ylabel='Efficiency'>,\n",
       "        <AxesSubplot:xlabel='Body Characteristics', ylabel='Efficiency'>,\n",
       "        <AxesSubplot:xlabel='Equipment Sensors', ylabel='Efficiency'>,\n",
       "        <AxesSubplot:xlabel='Efficiency', ylabel='Efficiency'>]],\n",
       "      dtype=object)"
      ]
     },
     "execution_count": 68,
     "metadata": {},
     "output_type": "execute_result"
    },
    {
     "data": {
      "image/png": "[encoded data removed]",
      "text/plain": [
       "<Figure size 432x288 with 36 Axes>"
      ]
     },
     "metadata": {
      "needs_background": "light"
     },
     "output_type": "display_data"
    }
   ],
   "source": [
    "scatter_matrix(data_set)"
   ]
  },
  {
   "cell_type": "code",
   "execution_count": 69,
   "metadata": {},
   "outputs": [
    {
     "data": {
      "text/plain": [
       "array([[1000, 1, 2000, 1, 10, 4, 'High'],\n",
       "       [1000, 1, 2000, 1, 10, 4, 'High'],\n",
       "       [1000, 0, 2000, 1, 10, 4, 'lowest'],\n",
       "       [1000, 1, 2000, 1, 10, 4, 'High'],\n",
       "       [800, 1, 500, 2, 10, 4, 'Highest'],\n",
       "       [700, 1, 500, 2, 10, 4, 'Highest'],\n",
       "       [900, 1, 500, 2, 10, 4, 'Highest'],\n",
       "       [650, 1, 500, 2, 10, 4, 'Highest'],\n",
       "       [300, 1, 500, 2, 10, 4, 'Highest'],\n",
       "       [2000, 1, 2500, 1, 7, 4, 'High'],\n",
       "       [2000, 1, 2500, 1, 7, 3, 'high'],\n",
       "       [1500, 1, 2500, 1, 7, 3, 'high'],\n",
       "       [1500, 1, 2500, 1, 7, 3, 'high'],\n",
       "       [1500, 0, 2500, 1, 7, 3, 'lowest'],\n",
       "       [1500, 0, 2000, 1, 7, 3, 'lowest'],\n",
       "       [1500, 0, 2000, 1, 7, 3, 'lowest'],\n",
       "       [1500, 1, 2000, 1, 7, 3, 'high'],\n",
       "       [1500, 1, 2000, 1, 7, 3, 'high'],\n",
       "       [1500, 1, 2000, 1, 7, 3, 'high'],\n",
       "       [1500, 1, 2500, 1, 7, 3, 'high']], dtype=object)"
      ]
     },
     "execution_count": 69,
     "metadata": {},
     "output_type": "execute_result"
    }
   ],
   "source": [
    "data_table = data_set.values\n",
    "data_table[0:20]"
   ]
  },
  {
   "cell_type": "markdown",
   "metadata": {},
   "source": [
    "## Modeling and Analyzing Data"
   ]
  },
  {
   "cell_type": "code",
   "execution_count": 71,
   "metadata": {},
   "outputs": [],
   "source": [
    "X = data_table[:,0:6]\n",
    "Y = data_table[:,6]"
   ]
  },
  {
   "cell_type": "code",
   "execution_count": 72,
   "metadata": {},
   "outputs": [
    {
     "data": {
      "text/plain": [
       "array([[1000, 1, 2000, 1, 10, 4],\n",
       "       [1000, 1, 2000, 1, 10, 4],\n",
       "       [1000, 0, 2000, 1, 10, 4],\n",
       "       [1000, 1, 2000, 1, 10, 4],\n",
       "       [800, 1, 500, 2, 10, 4],\n",
       "       [700, 1, 500, 2, 10, 4],\n",
       "       [900, 1, 500, 2, 10, 4],\n",
       "       [650, 1, 500, 2, 10, 4],\n",
       "       [300, 1, 500, 2, 10, 4],\n",
       "       [2000, 1, 2500, 1, 7, 4]], dtype=object)"
      ]
     },
     "execution_count": 72,
     "metadata": {},
     "output_type": "execute_result"
    }
   ],
   "source": [
    "X[0:10]\n"
   ]
  },
  {
   "cell_type": "code",
   "execution_count": 74,
   "metadata": {},
   "outputs": [],
   "source": [
    "test_set_size = 0.20\n",
    "seed = 6"
   ]
  },
  {
   "cell_type": "code",
   "execution_count": 75,
   "metadata": {},
   "outputs": [],
   "source": [
    "X_train, X_test, Y_train, Y_test = model_selection.train_test_split (X,Y, test_size = test_set_size, random_state = seed)"
   ]
  },
  {
   "cell_type": "code",
   "execution_count": 76,
   "metadata": {},
   "outputs": [],
   "source": [
    "scoring = 'accuracy'"
   ]
  },
  {
   "cell_type": "code",
   "execution_count": 78,
   "metadata": {},
   "outputs": [],
   "source": [
    "models = []\n",
    "\n",
    "models.append(('Logistic Regression', LogisticRegression(\n",
    "    solver='lbfgs',  multi_class='ovr')))\n",
    "models.append(('Linear Discriminant Analysis', LinearDiscriminantAnalysis()))\n",
    "models.append(('K Nearest Neigbors', KNeighborsClassifier()))\n",
    "models.append(('CART', DecisionTreeClassifier()))\n",
    "models.append(('Support Vector Machine', SVC(gamma='scale')))\n",
    "models.append(('Guassian Naive Bayes', GaussianNB()))"
   ]
  },
  {
   "cell_type": "code",
   "execution_count": 79,
   "metadata": {},
   "outputs": [],
   "source": [
    "results = []\n",
    "names = []"
   ]
  },
  {
   "cell_type": "markdown",
   "metadata": {},
   "source": [
    "# Testing the Model to determine the best model to use"
   ]
  },
  {
   "cell_type": "code",
   "execution_count": 80,
   "metadata": {},
   "outputs": [
    {
     "name": "stderr",
     "output_type": "stream",
     "text": [
      "c:\\Users\\vickj\\anaconda3\\envs\\deepLearning1\\lib\\site-packages\\sklearn\\linear_model\\_logistic.py:818: ConvergenceWarning: lbfgs failed to converge (status=1):\n",
      "STOP: TOTAL NO. of ITERATIONS REACHED LIMIT.\n",
      "\n",
      "Increase the number of iterations (max_iter) or scale the data as shown in:\n",
      "    https://scikit-learn.org/stable/modules/preprocessing.html\n",
      "Please also refer to the documentation for alternative solver options:\n",
      "    https://scikit-learn.org/stable/modules/linear_model.html#logistic-regression\n",
      "  extra_warning_msg=_LOGISTIC_SOLVER_CONVERGENCE_MSG,\n",
      "c:\\Users\\vickj\\anaconda3\\envs\\deepLearning1\\lib\\site-packages\\sklearn\\linear_model\\_logistic.py:818: ConvergenceWarning: lbfgs failed to converge (status=1):\n",
      "STOP: TOTAL NO. of ITERATIONS REACHED LIMIT.\n",
      "\n",
      "Increase the number of iterations (max_iter) or scale the data as shown in:\n",
      "    https://scikit-learn.org/stable/modules/preprocessing.html\n",
      "Please also refer to the documentation for alternative solver options:\n",
      "    https://scikit-learn.org/stable/modules/linear_model.html#logistic-regression\n",
      "  extra_warning_msg=_LOGISTIC_SOLVER_CONVERGENCE_MSG,\n",
      "c:\\Users\\vickj\\anaconda3\\envs\\deepLearning1\\lib\\site-packages\\sklearn\\linear_model\\_logistic.py:818: ConvergenceWarning: lbfgs failed to converge (status=1):\n",
      "STOP: TOTAL NO. of ITERATIONS REACHED LIMIT.\n",
      "\n",
      "Increase the number of iterations (max_iter) or scale the data as shown in:\n",
      "    https://scikit-learn.org/stable/modules/preprocessing.html\n",
      "Please also refer to the documentation for alternative solver options:\n",
      "    https://scikit-learn.org/stable/modules/linear_model.html#logistic-regression\n",
      "  extra_warning_msg=_LOGISTIC_SOLVER_CONVERGENCE_MSG,\n",
      "c:\\Users\\vickj\\anaconda3\\envs\\deepLearning1\\lib\\site-packages\\sklearn\\linear_model\\_logistic.py:818: ConvergenceWarning: lbfgs failed to converge (status=1):\n",
      "STOP: TOTAL NO. of ITERATIONS REACHED LIMIT.\n",
      "\n",
      "Increase the number of iterations (max_iter) or scale the data as shown in:\n",
      "    https://scikit-learn.org/stable/modules/preprocessing.html\n",
      "Please also refer to the documentation for alternative solver options:\n",
      "    https://scikit-learn.org/stable/modules/linear_model.html#logistic-regression\n",
      "  extra_warning_msg=_LOGISTIC_SOLVER_CONVERGENCE_MSG,\n",
      "c:\\Users\\vickj\\anaconda3\\envs\\deepLearning1\\lib\\site-packages\\sklearn\\linear_model\\_logistic.py:818: ConvergenceWarning: lbfgs failed to converge (status=1):\n",
      "STOP: TOTAL NO. of ITERATIONS REACHED LIMIT.\n",
      "\n",
      "Increase the number of iterations (max_iter) or scale the data as shown in:\n",
      "    https://scikit-learn.org/stable/modules/preprocessing.html\n",
      "Please also refer to the documentation for alternative solver options:\n",
      "    https://scikit-learn.org/stable/modules/linear_model.html#logistic-regression\n",
      "  extra_warning_msg=_LOGISTIC_SOLVER_CONVERGENCE_MSG,\n",
      "c:\\Users\\vickj\\anaconda3\\envs\\deepLearning1\\lib\\site-packages\\sklearn\\linear_model\\_logistic.py:818: ConvergenceWarning: lbfgs failed to converge (status=1):\n",
      "STOP: TOTAL NO. of ITERATIONS REACHED LIMIT.\n",
      "\n",
      "Increase the number of iterations (max_iter) or scale the data as shown in:\n",
      "    https://scikit-learn.org/stable/modules/preprocessing.html\n",
      "Please also refer to the documentation for alternative solver options:\n",
      "    https://scikit-learn.org/stable/modules/linear_model.html#logistic-regression\n",
      "  extra_warning_msg=_LOGISTIC_SOLVER_CONVERGENCE_MSG,\n",
      "c:\\Users\\vickj\\anaconda3\\envs\\deepLearning1\\lib\\site-packages\\sklearn\\linear_model\\_logistic.py:818: ConvergenceWarning: lbfgs failed to converge (status=1):\n",
      "STOP: TOTAL NO. of ITERATIONS REACHED LIMIT.\n",
      "\n",
      "Increase the number of iterations (max_iter) or scale the data as shown in:\n",
      "    https://scikit-learn.org/stable/modules/preprocessing.html\n",
      "Please also refer to the documentation for alternative solver options:\n",
      "    https://scikit-learn.org/stable/modules/linear_model.html#logistic-regression\n",
      "  extra_warning_msg=_LOGISTIC_SOLVER_CONVERGENCE_MSG,\n",
      "c:\\Users\\vickj\\anaconda3\\envs\\deepLearning1\\lib\\site-packages\\sklearn\\linear_model\\_logistic.py:818: ConvergenceWarning: lbfgs failed to converge (status=1):\n",
      "STOP: TOTAL NO. of ITERATIONS REACHED LIMIT.\n",
      "\n",
      "Increase the number of iterations (max_iter) or scale the data as shown in:\n",
      "    https://scikit-learn.org/stable/modules/preprocessing.html\n",
      "Please also refer to the documentation for alternative solver options:\n",
      "    https://scikit-learn.org/stable/modules/linear_model.html#logistic-regression\n",
      "  extra_warning_msg=_LOGISTIC_SOLVER_CONVERGENCE_MSG,\n",
      "c:\\Users\\vickj\\anaconda3\\envs\\deepLearning1\\lib\\site-packages\\sklearn\\linear_model\\_logistic.py:818: ConvergenceWarning: lbfgs failed to converge (status=1):\n",
      "STOP: TOTAL NO. of ITERATIONS REACHED LIMIT.\n",
      "\n",
      "Increase the number of iterations (max_iter) or scale the data as shown in:\n",
      "    https://scikit-learn.org/stable/modules/preprocessing.html\n",
      "Please also refer to the documentation for alternative solver options:\n",
      "    https://scikit-learn.org/stable/modules/linear_model.html#logistic-regression\n",
      "  extra_warning_msg=_LOGISTIC_SOLVER_CONVERGENCE_MSG,\n",
      "c:\\Users\\vickj\\anaconda3\\envs\\deepLearning1\\lib\\site-packages\\sklearn\\linear_model\\_logistic.py:818: ConvergenceWarning: lbfgs failed to converge (status=1):\n",
      "STOP: TOTAL NO. of ITERATIONS REACHED LIMIT.\n",
      "\n",
      "Increase the number of iterations (max_iter) or scale the data as shown in:\n",
      "    https://scikit-learn.org/stable/modules/preprocessing.html\n",
      "Please also refer to the documentation for alternative solver options:\n",
      "    https://scikit-learn.org/stable/modules/linear_model.html#logistic-regression\n",
      "  extra_warning_msg=_LOGISTIC_SOLVER_CONVERGENCE_MSG,\n",
      "c:\\Users\\vickj\\anaconda3\\envs\\deepLearning1\\lib\\site-packages\\sklearn\\linear_model\\_logistic.py:818: ConvergenceWarning: lbfgs failed to converge (status=1):\n",
      "STOP: TOTAL NO. of ITERATIONS REACHED LIMIT.\n",
      "\n",
      "Increase the number of iterations (max_iter) or scale the data as shown in:\n",
      "    https://scikit-learn.org/stable/modules/preprocessing.html\n",
      "Please also refer to the documentation for alternative solver options:\n",
      "    https://scikit-learn.org/stable/modules/linear_model.html#logistic-regression\n",
      "  extra_warning_msg=_LOGISTIC_SOLVER_CONVERGENCE_MSG,\n",
      "c:\\Users\\vickj\\anaconda3\\envs\\deepLearning1\\lib\\site-packages\\sklearn\\linear_model\\_logistic.py:818: ConvergenceWarning: lbfgs failed to converge (status=1):\n",
      "STOP: TOTAL NO. of ITERATIONS REACHED LIMIT.\n",
      "\n",
      "Increase the number of iterations (max_iter) or scale the data as shown in:\n",
      "    https://scikit-learn.org/stable/modules/preprocessing.html\n",
      "Please also refer to the documentation for alternative solver options:\n",
      "    https://scikit-learn.org/stable/modules/linear_model.html#logistic-regression\n",
      "  extra_warning_msg=_LOGISTIC_SOLVER_CONVERGENCE_MSG,\n",
      "c:\\Users\\vickj\\anaconda3\\envs\\deepLearning1\\lib\\site-packages\\sklearn\\linear_model\\_logistic.py:818: ConvergenceWarning: lbfgs failed to converge (status=1):\n",
      "STOP: TOTAL NO. of ITERATIONS REACHED LIMIT.\n",
      "\n",
      "Increase the number of iterations (max_iter) or scale the data as shown in:\n",
      "    https://scikit-learn.org/stable/modules/preprocessing.html\n",
      "Please also refer to the documentation for alternative solver options:\n",
      "    https://scikit-learn.org/stable/modules/linear_model.html#logistic-regression\n",
      "  extra_warning_msg=_LOGISTIC_SOLVER_CONVERGENCE_MSG,\n"
     ]
    },
    {
     "name": "stdout",
     "output_type": "stream",
     "text": [
      "Logistic Regression:  0.916667  (0.170783)\n",
      "Linear Discriminant Analysis:  0.730000  (0.107961)\n",
      "K Nearest Neigbors:  0.730000  (0.107961)\n",
      "CART:  1.000000  (0.000000)\n",
      "Support Vector Machine:  0.640000  (0.132330)\n",
      "Guassian Naive Bayes:  0.943333  (0.124766)\n"
     ]
    }
   ],
   "source": [
    "for name, model in models:\n",
    "    names.append(name)\n",
    "    K_Fold = model_selection.KFold(n_splits=10, random_state=7, shuffle=True)\n",
    "    cv_results = model_selection.cross_val_score(\n",
    "        model, X_train, Y_train, cv=K_Fold, scoring=scoring)\n",
    "    results.append(cv_results)\n",
    "    message = \"%s:  %f  (%f)\" % (name, cv_results.mean(), cv_results.std())\n",
    "    print(message)\n"
   ]
  },
  {
   "cell_type": "markdown",
   "metadata": {},
   "source": [
    "# Using the best model to predict the data"
   ]
  },
  {
   "cell_type": "code",
   "execution_count": 81,
   "metadata": {},
   "outputs": [
    {
     "data": {
      "text/plain": [
       "DecisionTreeClassifier()"
      ]
     },
     "execution_count": 81,
     "metadata": {},
     "output_type": "execute_result"
    }
   ],
   "source": [
    "model = DecisionTreeClassifier()\n",
    "model.fit(X_train, Y_train)"
   ]
  },
  {
   "cell_type": "code",
   "execution_count": 32,
   "metadata": {},
   "outputs": [],
   "source": [
    "# save the model for API\n",
    "\n",
    "import pickle\n",
    "\n",
    "with open('model.pkl', 'wb') as f:\n",
    "    pickle.dump(model, f)"
   ]
  },
  {
   "cell_type": "markdown",
   "metadata": {},
   "source": [
    "# Testing and Evaluating the Model"
   ]
  },
  {
   "cell_type": "code",
   "execution_count": 82,
   "metadata": {},
   "outputs": [
    {
     "name": "stdout",
     "output_type": "stream",
     "text": [
      "Accuracy:  1.0\n"
     ]
    }
   ],
   "source": [
    "# Check the accuracy of the model\n",
    "accuracy = model.score(X_test, Y_test)\n",
    "print(\"Accuracy: \", accuracy)"
   ]
  },
  {
   "cell_type": "code",
   "execution_count": 86,
   "metadata": {},
   "outputs": [
    {
     "name": "stdout",
     "output_type": "stream",
     "text": [
      "['Highest']\n"
     ]
    }
   ],
   "source": [
    "predictions = model.predict([[800,1,500,2,10,4]])\n",
    "print(predictions)\n"
   ]
  },
  {
   "cell_type": "code",
   "execution_count": 87,
   "metadata": {},
   "outputs": [
    {
     "name": "stdout",
     "output_type": "stream",
     "text": [
      "<class 'numpy.ndarray'>\n"
     ]
    }
   ],
   "source": [
    "print(type(predictions))"
   ]
  },
  {
   "cell_type": "code",
   "execution_count": 88,
   "metadata": {},
   "outputs": [
    {
     "name": "stdout",
     "output_type": "stream",
     "text": [
      "mercedes: High\n",
      "<class 'str'>\n"
     ]
    }
   ],
   "source": [
    "distanceCovered = 1500\n",
    "Match_of_Route = 1\n",
    "Fuel_Consumption = 2000\n",
    "Body_Characteristics = 1\n",
    "Equipment_Sensors = 10 \n",
    "Efficiency = 4\n",
    "Rating = 0\n",
    "\n",
    "new_prediction = model.predict([[distanceCovered, Match_of_Route, Fuel_Consumption, Body_Characteristics, Equipment_Sensors, Efficiency]])\n",
    "\n",
    "ranking = new_prediction[0]\n",
    "name_of_truck = 'mercedes'\n",
    "\n",
    "ranking = name_of_truck + ':' + ' ' + ranking\n",
    "\n",
    "print(ranking)\n",
    "\n",
    "print(type(ranking))"
   ]
  }
 ],
 "metadata": {
  "interpreter": {
   "hash": "788421b51819b0d99ad3e1c4dbd79c14d1f04d894a227406e4e8c6e44650e5ee"
  },
  "kernelspec": {
   "display_name": "Python 3.7.13 ('deepLearning1')",
   "language": "python",
   "name": "python3"
  },
  "language_info": {
   "codemirror_mode": {
    "name": "ipython",
    "version": 3
   },
   "file_extension": ".py",
   "mimetype": "text/x-python",
   "name": "python",
   "nbconvert_exporter": "python",
   "pygments_lexer": "ipython3",
   "version": "3.7.13"
  },
  "orig_nbformat": 4
 },
 "nbformat": 4,
 "nbformat_minor": 2
}
